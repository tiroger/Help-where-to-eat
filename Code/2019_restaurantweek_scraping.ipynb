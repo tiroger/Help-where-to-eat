{
 "cells": [
  {
   "cell_type": "code",
   "execution_count": 1,
   "metadata": {},
   "outputs": [
    {
     "name": "stdout",
     "output_type": "stream",
     "text": [
      "Requirement already satisfied: splinter in c:\\users\\xiaoqi\\anaconda3\\lib\\site-packages (0.11.0)\n",
      "Requirement already satisfied: six in c:\\users\\xiaoqi\\appdata\\roaming\\python\\python37\\site-packages (from splinter) (1.12.0)\n",
      "Requirement already satisfied: selenium>=3.141.0 in c:\\users\\xiaoqi\\anaconda3\\lib\\site-packages (from splinter) (3.141.0)\n",
      "Requirement already satisfied: urllib3 in c:\\users\\xiaoqi\\anaconda3\\lib\\site-packages (from selenium>=3.141.0->splinter) (1.24.1)\n"
     ]
    }
   ],
   "source": [
    "import sys\n",
    "!{sys.executable} -m pip install splinter"
   ]
  },
  {
   "cell_type": "code",
   "execution_count": 2,
   "metadata": {},
   "outputs": [],
   "source": [
    "from splinter import Browser\n",
    "from bs4 import BeautifulSoup\n",
    "import pandas as pd\n",
    "import time"
   ]
  },
  {
   "cell_type": "markdown",
   "metadata": {},
   "source": [
    "# Part 1: Data Extraction, aka: web scraping"
   ]
  },
  {
   "cell_type": "code",
   "execution_count": 3,
   "metadata": {},
   "outputs": [
    {
     "name": "stdout",
     "output_type": "stream",
     "text": [
      "0\n",
      "100 info\n",
      "100\n",
      "100 info\n",
      "200\n",
      "100 info\n",
      "300\n",
      "23 info\n"
     ]
    },
    {
     "data": {
      "text/plain": [
       "(323, 323, 320, 323, 323)"
      ]
     },
     "execution_count": 3,
     "metadata": {},
     "output_type": "execute_result"
    }
   ],
   "source": [
    "total_store = []\n",
    "total_location = []\n",
    "total_rate = []\n",
    "total_type = []\n",
    "total_info = []\n",
    "# total_review=[]\n",
    "# total_number= []\n",
    "\n",
    "# 1. Open Browser\n",
    "executable_path = {'executable_path': 'chromedriver.exe'}\n",
    "browser = Browser('chrome', **executable_path, headless=False)\n",
    "\n",
    "for num in [0, 100, 200, 300]:    \n",
    "    # 2. Enter Url\n",
    "    url = f'https://www.opentable.com/promo.aspx?covers=4&currentview=list&datetime=2019-07-22+19%3A00&from={num}&latitude=40.803614&longitude=-73.981624&metroid=8&promoid=69&ref=412&size=100&sort=Popularity'\n",
    "    browser.visit(url)\n",
    "    print(num)\n",
    "    # wait 30s to load web\n",
    "    time.sleep(30)\n",
    "    html = browser.html\n",
    "#   html_list.append(html)\n",
    "    soup = BeautifulSoup(html, 'html.parser')\n",
    "    store_name = soup.find_all('span', class_='rest-row-name-text')\n",
    "    location_list = soup.find_all('span',class_='rest-row-meta--location rest-row-meta-text')\n",
    "    rate_list = soup.find_all('span',class_='recommended-text')\n",
    "    type_list = soup.find_all('span', class_='rest-row-meta--cuisine rest-row-meta-text')\n",
    "    info_list = soup.find_all('div', class_='rest-promo-message')\n",
    "    \n",
    "#     review_number_list = soup.find_all('span',class_='underline-hover')\n",
    "#     review_list = soup.find_all('div',class_='review-rating-text xsmall-bold')\n",
    "    print(f'{len(info_list)} info')\n",
    "    total_store.extend(store_name)\n",
    "    total_location.extend(location_list)\n",
    "    total_rate.extend(rate_list)\n",
    "    total_type.extend(type_list)\n",
    "    total_info.extend(info_list)\n",
    "    \n",
    "#     total_number.extend(review_number_list)\n",
    "#     total_review.extend(review_list)\n",
    "    \n",
    "browser.quit()\n",
    "\n",
    "# len(total_store), len(total_location), len(total_rate), len(total_type),len(review_number_list),len(review_list)\n",
    "len(total_store), len(total_location), len(total_rate), len(total_type), len(total_info)    "
   ]
  },
  {
   "cell_type": "code",
   "execution_count": 4,
   "metadata": {},
   "outputs": [],
   "source": [
    "# executable_path = {'executable_path': 'chromedriver.exe'}\n",
    "# browser = Browser('chrome', **executable_path, headless=False)"
   ]
  },
  {
   "cell_type": "code",
   "execution_count": 5,
   "metadata": {},
   "outputs": [],
   "source": [
    "# url = 'https://www.opentable.com/promo.aspx?covers=4&currentview=list&datetime=2019-07-22+19%3A00&from=0&latitude=40.803614&longitude=-73.981624&metroid=8&promoid=69&ref=412&size=100&sort=Popularity'\n",
    "# browser.visit(url)"
   ]
  },
  {
   "cell_type": "code",
   "execution_count": 6,
   "metadata": {},
   "outputs": [],
   "source": [
    "# html = browser.html"
   ]
  },
  {
   "cell_type": "markdown",
   "metadata": {},
   "source": [
    "# Part 2: Data Cleaning"
   ]
  },
  {
   "cell_type": "code",
   "execution_count": 7,
   "metadata": {},
   "outputs": [],
   "source": [
    "# Basic: For loop\n",
    "# result = []\n",
    "# for name in store_name:\n",
    "#     result.append(name.text)\n",
    "# result"
   ]
  },
  {
   "cell_type": "code",
   "execution_count": 8,
   "metadata": {},
   "outputs": [],
   "source": [
    "# total_store_name.index('Junoon Main Dining Room')"
   ]
  },
  {
   "cell_type": "code",
   "execution_count": 9,
   "metadata": {
    "scrolled": true
   },
   "outputs": [
    {
     "data": {
      "text/plain": [
       "323"
      ]
     },
     "execution_count": 9,
     "metadata": {},
     "output_type": "execute_result"
    }
   ],
   "source": [
    "total_rate.insert(139, 'NA')\n",
    "total_rate.insert(317, 'NA')\n",
    "total_rate.insert(238, 'NA')\n",
    "\n",
    "len(total_rate)"
   ]
  },
  {
   "cell_type": "code",
   "execution_count": 10,
   "metadata": {},
   "outputs": [
    {
     "data": {
      "text/plain": [
       "'84% Recommend'"
      ]
     },
     "execution_count": 10,
     "metadata": {},
     "output_type": "execute_result"
    }
   ],
   "source": [
    "# first_rate = total_rate[0]\n",
    "# first_rate.text"
   ]
  },
  {
   "cell_type": "code",
   "execution_count": 11,
   "metadata": {},
   "outputs": [
    {
     "data": {
      "text/plain": [
       "bs4.element.Tag"
      ]
     },
     "execution_count": 11,
     "metadata": {},
     "output_type": "execute_result"
    }
   ],
   "source": [
    "# type(first_rate)"
   ]
  },
  {
   "cell_type": "code",
   "execution_count": 12,
   "metadata": {},
   "outputs": [
    {
     "data": {
      "text/plain": [
       "323"
      ]
     },
     "execution_count": 12,
     "metadata": {},
     "output_type": "execute_result"
    }
   ],
   "source": [
    "# total_rate_list = [rate.text for rate in total_rate]\n",
    "total_rate_list =  []\n",
    "for item in total_rate:\n",
    "    if hasattr(item, 'text'):\n",
    "        total_rate_list.append(item.text)\n",
    "    else:\n",
    "        total_rate_list.append('NA')\n",
    "        \n",
    "len(total_rate_list)"
   ]
  },
  {
   "cell_type": "code",
   "execution_count": 17,
   "metadata": {},
   "outputs": [
    {
     "data": {
      "text/plain": [
       "(323, 323, 323, 323)"
      ]
     },
     "execution_count": 17,
     "metadata": {},
     "output_type": "execute_result"
    }
   ],
   "source": [
    "# Advance: list comprehension\n",
    "total_store_name = [name.text for name in total_store]\n",
    "total_location_list = [location.text for location in total_location]\n",
    "total_type_list = [typelist.text for typelist in total_type]\n",
    "total_info_list = [infolist.text for infolist in total_info]\n",
    "# total_review_number_list = [numberlist.text for numberlist in total_number]\n",
    "# total_review_list = [reviewlist.text for reviewlist in total_review]\n",
    "\n",
    "len(total_store_name), len(total_location_list), len(total_type_list), len(total_info_list)    "
   ]
  },
  {
   "cell_type": "code",
   "execution_count": 14,
   "metadata": {},
   "outputs": [],
   "source": [
    "# total_store_name.index('Ammos Estiatorio')"
   ]
  },
  {
   "cell_type": "markdown",
   "metadata": {},
   "source": [
    "# Part 3: Transformation"
   ]
  },
  {
   "cell_type": "code",
   "execution_count": 18,
   "metadata": {},
   "outputs": [],
   "source": [
    "df_restaurantweek_2019 = pd.DataFrame(\n",
    "    {'Restaurant': total_store_name,\n",
    "     'Location': total_location_list,\n",
    "     'Ratings': total_rate_list,\n",
    "     'Cuisine': total_type_list,\n",
    "     'Specials': total_info_list\n",
    "#      'Number of Reviews': total_review_number_list,\n",
    "#      'Review Ratings': total_review_list\n",
    "    })"
   ]
  },
  {
   "cell_type": "code",
   "execution_count": 19,
   "metadata": {},
   "outputs": [
    {
     "data": {
      "text/html": [
       "<div>\n",
       "<style scoped>\n",
       "    .dataframe tbody tr th:only-of-type {\n",
       "        vertical-align: middle;\n",
       "    }\n",
       "\n",
       "    .dataframe tbody tr th {\n",
       "        vertical-align: top;\n",
       "    }\n",
       "\n",
       "    .dataframe thead th {\n",
       "        text-align: right;\n",
       "    }\n",
       "</style>\n",
       "<table border=\"1\" class=\"dataframe\">\n",
       "  <thead>\n",
       "    <tr style=\"text-align: right;\">\n",
       "      <th></th>\n",
       "      <th>Restaurant</th>\n",
       "      <th>Location</th>\n",
       "      <th>Ratings</th>\n",
       "      <th>Cuisine</th>\n",
       "      <th>Specials</th>\n",
       "    </tr>\n",
       "  </thead>\n",
       "  <tbody>\n",
       "    <tr>\n",
       "      <th>0</th>\n",
       "      <td>STK - NYC - Midtown</td>\n",
       "      <td>Midtown West</td>\n",
       "      <td>84% Recommend</td>\n",
       "      <td>Steakhouse</td>\n",
       "      <td>$26 Lunch M-F | $42 Dinner *excluding Saturday</td>\n",
       "    </tr>\n",
       "    <tr>\n",
       "      <th>1</th>\n",
       "      <td>Tavern on the Green</td>\n",
       "      <td>Midtown West</td>\n",
       "      <td>91% Recommend</td>\n",
       "      <td>American</td>\n",
       "      <td>$26 Lunch* | $42 Dinner *excluding weekends</td>\n",
       "    </tr>\n",
       "    <tr>\n",
       "      <th>2</th>\n",
       "      <td>Lido</td>\n",
       "      <td>Harlem</td>\n",
       "      <td>97% Recommend</td>\n",
       "      <td>Italian</td>\n",
       "      <td>$26 Lunch* | $42 Dinner *excluding weekends</td>\n",
       "    </tr>\n",
       "    <tr>\n",
       "      <th>3</th>\n",
       "      <td>Becco</td>\n",
       "      <td>Theater District / Times Square</td>\n",
       "      <td>88% Recommend</td>\n",
       "      <td>Italian</td>\n",
       "      <td>$26 Lunch *excluding Saturday</td>\n",
       "    </tr>\n",
       "    <tr>\n",
       "      <th>4</th>\n",
       "      <td>Catch New York</td>\n",
       "      <td>Meatpacking District</td>\n",
       "      <td>84% Recommend</td>\n",
       "      <td>Seafood</td>\n",
       "      <td>$26 Lunch M-F | $26 Brunch *Sunday only | $42...</td>\n",
       "    </tr>\n",
       "  </tbody>\n",
       "</table>\n",
       "</div>"
      ],
      "text/plain": [
       "            Restaurant                         Location        Ratings  \\\n",
       "0  STK - NYC - Midtown                     Midtown West  84% Recommend   \n",
       "1  Tavern on the Green                     Midtown West  91% Recommend   \n",
       "2                 Lido                           Harlem  97% Recommend   \n",
       "3                Becco  Theater District / Times Square  88% Recommend   \n",
       "4       Catch New York             Meatpacking District  84% Recommend   \n",
       "\n",
       "      Cuisine                                           Specials  \n",
       "0  Steakhouse    $26 Lunch M-F | $42 Dinner *excluding Saturday   \n",
       "1    American       $26 Lunch* | $42 Dinner *excluding weekends   \n",
       "2     Italian       $26 Lunch* | $42 Dinner *excluding weekends   \n",
       "3     Italian                     $26 Lunch *excluding Saturday   \n",
       "4     Seafood   $26 Lunch M-F | $26 Brunch *Sunday only | $42...  "
      ]
     },
     "execution_count": 19,
     "metadata": {},
     "output_type": "execute_result"
    }
   ],
   "source": [
    "df_restaurantweek_2019.head()"
   ]
  },
  {
   "cell_type": "code",
   "execution_count": 22,
   "metadata": {},
   "outputs": [],
   "source": [
    "df_restaurantweek_2019.to_csv(\"2019RestaurantWeek.csv\", index=False, header=True)"
   ]
  }
 ],
 "metadata": {
  "kernelspec": {
   "display_name": "Python 3",
   "language": "python",
   "name": "python3"
  },
  "language_info": {
   "codemirror_mode": {
    "name": "ipython",
    "version": 3
   },
   "file_extension": ".py",
   "mimetype": "text/x-python",
   "name": "python",
   "nbconvert_exporter": "python",
   "pygments_lexer": "ipython3",
   "version": "3.7.3"
  },
  "varInspector": {
   "cols": {
    "lenName": 16,
    "lenType": 16,
    "lenVar": 40
   },
   "kernels_config": {
    "python": {
     "delete_cmd_postfix": "",
     "delete_cmd_prefix": "del ",
     "library": "var_list.py",
     "varRefreshCmd": "print(var_dic_list())"
    },
    "r": {
     "delete_cmd_postfix": ") ",
     "delete_cmd_prefix": "rm(",
     "library": "var_list.r",
     "varRefreshCmd": "cat(var_dic_list()) "
    }
   },
   "types_to_exclude": [
    "module",
    "function",
    "builtin_function_or_method",
    "instance",
    "_Feature"
   ],
   "window_display": false
  }
 },
 "nbformat": 4,
 "nbformat_minor": 2
}
